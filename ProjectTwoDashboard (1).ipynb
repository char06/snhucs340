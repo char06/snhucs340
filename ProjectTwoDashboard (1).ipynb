{
 "cells": [
  {
   "cell_type": "code",
   "execution_count": 41,
   "metadata": {
    "scrolled": true
   },
   "outputs": [
    {
     "data": {
      "text/html": [
       "<div>\n",
       "  <iframe src=\"/app/endpoints/7cbe7d98ecfe4fe69aac031cee3b5070/\" width=800 height=600 frameborder=\"0\"></iframe>\n",
       "  <hr/><a href=\"/app/endpoints/7cbe7d98ecfe4fe69aac031cee3b5070/\" target=\"_new\">Open in new window</a> for /app/endpoints/7cbe7d98ecfe4fe69aac031cee3b5070/\n",
       "</div>"
      ],
      "text/plain": [
       "<jupyter_plotly_dash.dash_wrapper.JupyterDash at 0x121ab7510>"
      ]
     },
     "execution_count": 41,
     "metadata": {},
     "output_type": "execute_result"
    }
   ],
   "source": [
    "from jupyter_plotly_dash import JupyterDash\n",
    "\n",
    "import dash\n",
    "import dash_leaflet as dl\n",
    "import dash_core_components as dcc\n",
    "import dash_html_components as html\n",
    "import plotly.express as px\n",
    "import dash_table as dt\n",
    "from dash.dependencies import Input, Output, State\n",
    "\n",
    "import os\n",
    "import numpy as np\n",
    "import pandas as pd\n",
    "from pymongo import MongoClient\n",
    "from bson.json_util import dumps\n",
    "\n",
    "#### FIX ME #####\n",
    "# change animal_shelter and AnimalShelter to match your CRUD Python module file name and class name\n",
    "from AnimalShelter import AnimalShelter\n",
    "\n",
    "\n",
    "\n",
    "\n",
    "\n",
    "###########################\n",
    "# Data Manipulation / Model\n",
    "###########################\n",
    "# FIX ME change for your username and password and CRUD Python module name\n",
    "username = \"accuser\"\n",
    "password = \"password\"\n",
    "shelter = AnimalShelter(username, password)\n",
    "\n",
    "\n",
    "# class read method must support return of cursor object \n",
    "df = pd.DataFrame.from_records(shelter.read({})\n",
    "\n",
    "\n",
    "\n",
    "#########################\n",
    "# Dashboard Layout / View\n",
    "#########################\n",
    "app = JupyterDash('SimpleExample')\n",
    "\n",
    "#FIX ME Add in Grazioso Salvare’s logo\n",
    "image_filename = 'logo.png' # replace with your own image\n",
    "encoded_image = base64.b64encode(open(image_filename, 'rb').read())\n",
    "\n",
    "#FIX ME Place the HTML image tag in the line below into the app.layout code according to your design\n",
    "#FIX ME Also remember to include a unique identifier such as your name or date\n",
    "#html.Img(src='data:image/png;base64,{}'.format(encoded_image.decode()))\n",
    "\n",
    "app.layout = html.Div([\n",
    "#    html.Div(id='hidden-div', style={'display':'none'}),\n",
    "    html.Center(html.B(html.H1('SNHU CS-340 Dashboard Jagger 4/19/21'))),\n",
    "    html.Hr(),\n",
    "    html.Div(\n",
    "        \n",
    "#FIXME Add in code for the interactive filtering options. For example, Radio buttons, drop down, checkboxes, etc.\n",
    "\n",
    "\n",
    "    ),\n",
    "    html.Hr(),\n",
    "    dt.DataTable(\n",
    "        id='datatable-id',\n",
    "        columns=[\n",
    "            {\"name\": i, \"id\": i, \"deletable\": False, \"selectable\": True} for i in df.columns\n",
    "        ],\n",
    "        data=df.to_dict('records'),\n",
        className='row',
        style={'display': 'flex'},
        children=[
                html.Button(id='submit-button-one',n_clicks=0, children= 'Breed'),
                html.Button(id='submit-button-two',n_clicks=0, children= 'Dog or Cat'),        
        ]
    "#FIXME: Set up the features for your interactive data table to make it user-friendly for your client\n",
    "#If you completed the Module Six Assignment, you can copy in the code you created here \n",
    "        \n",
        page_size=100,
        style_table={'height':'300px','overflowY':'auto','overflowX':'auto'},
        style_header={
            'backgroundColor':'rgb(230,230,230)',
            'fontWeight':'bold'        
        },
        style_data={
            'whiteSpace':'normal',
            'height':'auto'
        },
    "    ),\n",
    "    html.Br(),\n",
    "    html.Hr(),\n",
    "#This sets up the dashboard so that your chart and your geolocation chart are side-by-side\n",
    "    html.Div(className='row',\n",
    "         style={'display' : 'flex'},\n",
    "             children=[\n",
    "        html.Div(\n",
    "            id='graph-id',\n",
    "            className='col s12 m6',\n",
    "\n",
    "            ),\n",
    "        html.Div(\n",
    "            id='map-id',\n",
    "            className='col s12 m6',\n",
    "            )\n",
    "        ])\n",
    "])\n",
    "\n",
    "#############################################\n",
    "# Interaction Between Components / Controller\n",
    "#############################################\n",
    "\n",
    "\n",
    "\n",
    "    \n",
    "@app.callback([Output('datatable-id','data'),\n",
    "               Output('datatable-id','columns')],\n",
    "              [Input('filter-type', 'value')])\n",
    "def update_dashboard(filter_type):\n",
    "### FIX ME Add code to filter interactive data table with MongoDB queries\n",
    "\n",
    def update_dashboard(a,b,c,d):
                        
    if (int(a) >= 1):
        df = pd.Dataframe.from_records(shelter.read({'$and': [ 
            {'$or': [ {'breed':'Labrador Retriever Mix'}, {'breed':'Chesapeake Bay Retriever'},
                   {'breed':'Newfoundland'}]}, 
            {'sex_upon_outcome':'Intact Female'}, {'age_upon_outcome_in_weeks':{'$lte':26, 'gte':156}}]}))
        b, c, d = 0

    elif (int(b)>= 1):
        df = pd.Dataframe.from_records(shelter.read({'$and': [ 
            {'$or': [ {'breed':'German Shepherd'}, {'breed':'Alaskan Malamute'},
                   {'breed':'Old English Sheepdog'},{'breed':'Siberian Husky'},{'breed':'Rottweiler'}]}, 
            {'sex_upon_outcome':'Intact Male'}, {'age_upon_outcome_in_weeks':{'$lte':26, 'gte':156}}]}))
        a, c ,d = 0

    elif (int(c)>=1):
        df = pd.Dataframe.from_records(shelter.read({'$and': [ 
            {'$or': [ {'breed':'Doberman Pinscher'}, {'breed':'German Sheperd'},
                   {'breed':'Golden Retriever'},{'breed':'Bloodhound'},{'breed':'Rottweiler'}]}, 
            {'sex_upon_outcome':'Intact Male'}, {'age_upon_outcome_in_weeks':{'$lte':20, 'gte':300}}]}))
        a, b, d = 0

    elif(int(d)>=1):
        df = pd.Dataframe.from_records(shelter.read())
        a, b, c = 0

    columns=[{"name": i, "id": i, "deletable": False, "selectable": True} for i in df.columns]
    data=df.to_dict('records')


    return data
    
    "        \n",
    "        columns=[{\"name\": i, \"id\": i, \"deletable\": False, \"selectable\": True} for i in df.columns]\n",
    "        data=df.to_dict('records')\n",
    "        \n",
    "        \n",
    "        return (data,columns)\n",
    "\n",
    "\n",
    "\n",
    "\n",
    "@app.callback(\n",
    "    Output('datatable-id', 'style_data_conditional'),\n",
    "    [Input('datatable-id', 'selected_columns')]\n",
    ")\n",
    "def update_styles(selected_columns):\n",
    "    return [{\n",
    "        'if': { 'column_id': i },\n",
    "        'background_color': '#D2F3FF'\n",
    "    } for i in selected_columns]\n",
    "\n",
    "@app.callback(\n",
    "    Output('graph-id', \"children\"),\n",
    "    [Input('datatable-id', \"derived_viewport_data\")])\n",
    "def update_graphs(viewData):\n",
    "    ###FIX ME ####\n",
    "    # add code for chart of your choice (e.g. pie chart) #\n",
    "    #return [\n",
    "    #    dcc.Graph(            \n",
    "    #        figure = ###\n",
    "    #    )    \n",
    "    #]\n",
    "\n",
    "@app.callback(\n",
    "    Output('map-id', \"children\"),\n",
    "    [Input('datatable-id', \"derived_viewport_data\")])\n",
    "def update_map(viewData):\n",
    "#FIXME: Add in the code for your geolocation chart\n",
    "#If you completed the Module Six Assignment, you can copy in the code you created here.\n",
    "from geolocation.main import GoogleMaps from geolocation.distance_matrix.client import DistanceMatrixApiClient

address = “New York City Wall Street 12”

google_maps = GoogleMaps(api_key=’your_google_maps_key’)

location = google_maps.search(location=address) # sends search to Google Maps.

print(location.all()) # returns all locations.

my_location = location.first() # returns only first location.

print(my_location.city) print(my_location.route) print(my_location.street_number) print(my_location.postal_code)

for administrative_area in my_location.administrative_area:

print(“{}: {} ({})”.format(administrative_area.area_type,

administrative_area.name, administrative_area.short_name))

print(my_location.country) print(my_location.country_shortcut)

print(my_location.formatted_address)

print(my_location.lat) print(my_location.lng)

# reverse geocode

lat = 40.7060008 lng = -74.0088189

my_location = google_maps.search(lat=lat, lng=lng).first()
    "\n",
    "app"
   ]
  },
    "\n",
    "\n",
    "\n",
    "app"
   ]
  },
  {
   "cell_type": "code",
   "execution_count": null,
   "metadata": {},
   "outputs": [],
   "source": []
  },
  {
   "cell_type": "code",
   "execution_count": null,
   "metadata": {},
   "outputs": [],
   "source": []
  },
  {
   "cell_type": "code",
   "execution_count": null,
   "metadata": {},
   "outputs": [],
   "source": []
  }
 ],
 "metadata": {
  "kernelspec": {
   "display_name": "Python 3",
   "language": "python",
   "name": "python3"
  },
  "language_info": {
   "codemirror_mode": {
    "name": "ipython",
    "version": 3
   },
   "file_extension": ".py",
   "mimetype": "text/x-python",
   "name": "python",
   "nbconvert_exporter": "python",
   "pygments_lexer": "ipython3",
   "version": "3.7.7"
  }
 },
 "nbformat": 4,
 "nbformat_minor": 2
}
